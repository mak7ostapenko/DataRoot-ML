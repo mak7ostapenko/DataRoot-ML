{
 "cells": [
  {
   "cell_type": "code",
   "execution_count": 75,
   "metadata": {
    "collapsed": true
   },
   "outputs": [],
   "source": [
    "import numpy as np\n",
    "import pandas as pd\n",
    "%matplotlib inline \n",
    "from collections import Counter\n",
    "\n",
    "import time\n",
    "from scipy.spatial.distance import euclidean\n",
    "from scipy import stats\n",
    "from matplotlib import pyplot as plt"
   ]
  },
  {
   "cell_type": "markdown",
   "metadata": {},
   "source": [
    "# Завантажуємо та фільтруємо дані"
   ]
  },
  {
   "cell_type": "code",
   "execution_count": 76,
   "metadata": {
    "collapsed": true
   },
   "outputs": [],
   "source": [
    "frame = pd.read_csv('diamonds.csv')\n",
    "frame.drop('Unnamed: 0', axis = 1, inplace = True)"
   ]
  },
  {
   "cell_type": "code",
   "execution_count": 77,
   "metadata": {
    "collapsed": true
   },
   "outputs": [],
   "source": [
    "cool = {'Fair':1, 'Good':2, 'Very Good':3, 'Premium':4, 'Ideal':5}\n",
    "frame.cut = frame.cut.map(cool)\n",
    "frame.head(3)\n",
    "\n",
    "points = np.array(frame[['price','carat']][0:150], dtype=float)\n",
    "labels = np.array(frame['cut'][0:150],dtype=float)"
   ]
  },
  {
   "cell_type": "markdown",
   "metadata": {},
   "source": [
    "# Головна частина"
   ]
  },
  {
   "cell_type": "code",
   "execution_count": 78,
   "metadata": {
    "collapsed": true
   },
   "outputs": [],
   "source": [
    "def sort_dist(points):\n",
    "    # знаходимо дистанцію до інших елементів від поточної точки \n",
    "\n",
    "    dists = np.array([[ [ euclidean(points[i],points[j]), j ] for j in range(points.shape[0])]\n",
    "                for i in range( points.shape[0])] , dtype=float)\n",
    "    \n",
    "    # упорядковуємо по зростанню відстанні до і-го елемента\n",
    "    for i in range(len(dists)):\n",
    "        dists[i] = dists[i][dists[i][:,0].argsort()]\n",
    "        \n",
    "    return dists"
   ]
  },
  {
   "cell_type": "markdown",
   "metadata": {},
   "source": [
    "# Функція, яка дозволить нам вибрати оптимальне значення k"
   ]
  },
  {
   "cell_type": "code",
   "execution_count": 79,
   "metadata": {
    "collapsed": true,
    "scrolled": true
   },
   "outputs": [],
   "source": [
    "def trein_kNN(trein_set, label_set):\n",
    "    trein_set = np.array(trein_set)\n",
    "    label_set = np.array(label_set)\n",
    "\n",
    "    # знаходимо дистанцію до інших елементів від поточного і далі сортуємо по збільшенні відстанні між елементам   \n",
    "    dist = sort_dist(trein_set)\n",
    "    \n",
    "    k_result = {}\n",
    "    # намагаємося вибрати оптимальне k\n",
    "    for k in np.arange(1,len(trein_set)):\n",
    "        true_recogn = 0\n",
    "        \n",
    "        for i in range(len(trein_set)):\n",
    "            class_knn = [] \n",
    "            \n",
    "            # добавляємо в список класи k ближніх об'єктів\n",
    "            for j in np.arange(1,(k+1)):\n",
    "                class_knn.append(label_set[int(dist[i,j,1])])\n",
    "                \n",
    "            # знаходимо клас який максимально часто зустрічається\n",
    "            count_class = Counter(class_knn)\n",
    "            \n",
    "            # знаходимо класс елемента\n",
    "            target_class = max(count_class, key=lambda key:count_class[key])\n",
    "            \n",
    "            # якщо відповідь на k-елементі правильна, то результативність збільшуємо на одиницю\n",
    "            if(target_class == label_set[i]):\n",
    "                true_recogn += 1\n",
    "                \n",
    "        k_result[k] = true_recogn\n",
    "    \n",
    "    # знаходимо оптимальне значення k\n",
    "    target_k = max(k_result, key=lambda key: k_result[key])\n",
    "    \n",
    "    return target_k, k_result"
   ]
  },
  {
   "cell_type": "code",
   "execution_count": 80,
   "metadata": {},
   "outputs": [
    {
     "name": "stdout",
     "output_type": "stream",
     "text": [
      " кількість правильних передбачень при кількості сусідів k: \n",
      " \n",
      " {1: 72, 2: 72, 3: 78, 4: 70, 5: 72, 6: 73, 7: 65, 8: 66, 9: 64, 10: 61, 11: 63, 12: 59, 13: 59, 14: 53, 15: 55, 16: 55, 17: 55, 18: 54, 19: 58, 20: 57, 21: 56, 22: 60, 23: 57, 24: 61, 25: 61, 26: 60, 27: 62, 28: 63, 29: 61, 30: 64, 31: 64, 32: 56, 33: 56, 34: 56, 35: 55, 36: 55, 37: 58, 38: 58, 39: 58, 40: 58, 41: 58, 42: 59, 43: 59, 44: 59, 45: 58, 46: 58, 47: 58, 48: 58, 49: 58, 50: 58, 51: 58, 52: 58, 53: 58, 54: 58, 55: 58, 56: 58, 57: 58, 58: 58, 59: 58, 60: 58, 61: 58, 62: 58, 63: 58, 64: 58, 65: 58, 66: 58, 67: 58, 68: 58, 69: 58, 70: 58, 71: 58, 72: 58, 73: 58, 74: 54, 75: 54, 76: 54, 77: 54, 78: 54, 79: 58, 80: 54, 81: 54, 82: 58, 83: 54, 84: 54, 85: 54, 86: 58, 87: 58, 88: 58, 89: 58, 90: 58, 91: 58, 92: 58, 93: 58, 94: 58, 95: 58, 96: 58, 97: 58, 98: 54, 99: 58, 100: 58, 101: 58, 102: 58, 103: 58, 104: 58, 105: 58, 106: 58, 107: 58, 108: 58, 109: 58, 110: 58, 111: 58, 112: 58, 113: 58, 114: 54, 115: 42, 116: 47, 117: 47, 118: 47, 119: 51, 120: 51, 121: 51, 122: 51, 123: 51, 124: 51, 125: 51, 126: 51, 127: 51, 128: 51, 129: 51, 130: 51, 131: 51, 132: 51, 133: 51, 134: 51, 135: 51, 136: 51, 137: 51, 138: 51, 139: 51, 140: 51, 141: 51, 142: 51, 143: 51, 144: 51, 145: 51, 146: 51, 147: 51, 148: 51, 149: 51}\n",
      "\n",
      "k у якого кількість правильних передбачень найбільша: \n",
      "k =  3\n"
     ]
    }
   ],
   "source": [
    "target_k, k_result = trein_kNN(points, labels)\n",
    "print(\" кількість правильних передбачень при кількості сусідів k: \\n \\n\", k_result)\n",
    "print()\n",
    "print('k у якого кількість правильних передбачень найбільша: \\nk = ',target_k)"
   ]
  },
  {
   "cell_type": "markdown",
   "metadata": {},
   "source": [
    "# Функція для передбачення класу невідомої точки"
   ]
  },
  {
   "cell_type": "code",
   "execution_count": 81,
   "metadata": {
    "collapsed": true
   },
   "outputs": [],
   "source": [
    "def dist_to_point(points,unknown):\n",
    "    \n",
    "    # знаходимо дистанцію до інших елементів від поточної точки \n",
    "    \n",
    "    num_pred = unknown.shape[0]\n",
    "    num_data = points.shape[0]\n",
    "    dists = np.zeros((num_pred,num_data))\n",
    "    \n",
    "    for i in range(num_pred):\n",
    "        for j in range(num_data):\n",
    "            dists[i,j] = euclidean(unknown[i],points[j])\n",
    "            \n",
    "    return dists \n"
   ]
  },
  {
   "cell_type": "code",
   "execution_count": 82,
   "metadata": {
    "collapsed": true
   },
   "outputs": [],
   "source": [
    "def kNN(data_x,class_x, unknown,k=2):\n",
    "    data_x = np.array(data_x)\n",
    "    class_x = np.array(class_x)  #.reshape((len(class_x),1))\n",
    "    unknown = np.array(unknown)\n",
    "\n",
    "        \n",
    "    # знаходимо дистанцію до інших елементів від поточного і далі сортуємо по збільшенні відстанні між елементам   \n",
    "    dists = dist_to_point(data_x,unknown)\n",
    "    \n",
    "    num_pred = dists.shape[0]\n",
    "    results = np.zeros(num_pred)\n",
    "    \n",
    "    \n",
    "    for i in range(num_pred):\n",
    "        dst = dists[i]\n",
    "        closest_y = class_x[dst.argsort()[:k]]\n",
    "        results[i] = Counter(closest_y).most_common(1)[0][0]\n",
    "    \n",
    "    return results"
   ]
  },
  {
   "cell_type": "markdown",
   "metadata": {},
   "source": [
    "#  перевіряємо роботу алгоритма"
   ]
  },
  {
   "cell_type": "code",
   "execution_count": 83,
   "metadata": {
    "collapsed": true
   },
   "outputs": [],
   "source": [
    "points = np.array(frame[['price','carat']][0:100], dtype=float)\n",
    "labels = np.array(frame['cut'][0:100],dtype=float)\n",
    "target = np.array(frame[['price','carat']][80:90], dtype=float)\n",
    "\n",
    "target_k, k_result = trein_kNN(points, labels)"
   ]
  },
  {
   "cell_type": "code",
   "execution_count": 84,
   "metadata": {},
   "outputs": [
    {
     "name": "stdout",
     "output_type": "stream",
     "text": [
      "k =  3\n",
      "[ 3.  3.  3.  5.  3.  4.  4.  4.  4.  4.]\n"
     ]
    }
   ],
   "source": [
    "print('k = ',target_k)\n",
    "results = kNN(points, labels, target,target_k)\n",
    "print(results)"
   ]
  },
  {
   "cell_type": "code",
   "execution_count": 85,
   "metadata": {},
   "outputs": [
    {
     "name": "stdout",
     "output_type": "stream",
     "text": [
      "[ 3.  3.  5.  5.  2.  4.  4.  4.  4.  4.]\n"
     ]
    }
   ],
   "source": [
    "labels_s = np.array(frame['cut'][80:90],dtype=float)\n",
    "print(labels_s)"
   ]
  },
  {
   "cell_type": "markdown",
   "metadata": {},
   "source": [
    "# Порівнянння із sklearn"
   ]
  },
  {
   "cell_type": "code",
   "execution_count": 95,
   "metadata": {
    "collapsed": true
   },
   "outputs": [],
   "source": [
    "from sklearn.neighbors import NearestNeighbors\n",
    "from sklearn import neighbors"
   ]
  },
  {
   "cell_type": "code",
   "execution_count": 96,
   "metadata": {},
   "outputs": [
    {
     "name": "stdout",
     "output_type": "stream",
     "text": [
      "[ 3.  3.  3.  4.  3.  4.  4.  4.  4.  4.]\n"
     ]
    }
   ],
   "source": [
    "X = np.array(frame[['price','carat']][0:100], dtype=float)\n",
    "Y = np.array(frame['cut'][0:100],dtype=float)\n",
    "target = np.array(frame[['price','carat']][80:90], dtype=float)\n",
    "\n",
    "\n",
    "nbrs =  neighbors.KNeighborsClassifier()\n",
    "nbrs.fit(X,Y)\n",
    "\n",
    "distances, indices = nbrs.kneighbors(X)\n",
    "\n",
    "Z = nbrs.predict(target)\n",
    "print(Z)"
   ]
  },
  {
   "cell_type": "code",
   "execution_count": null,
   "metadata": {
    "collapsed": true
   },
   "outputs": [],
   "source": []
  }
 ],
 "metadata": {
  "kernelspec": {
   "display_name": "Python 3",
   "language": "python",
   "name": "python3"
  },
  "language_info": {
   "codemirror_mode": {
    "name": "ipython",
    "version": 3
   },
   "file_extension": ".py",
   "mimetype": "text/x-python",
   "name": "python",
   "nbconvert_exporter": "python",
   "pygments_lexer": "ipython3",
   "version": "3.6.1"
  }
 },
 "nbformat": 4,
 "nbformat_minor": 2
}
